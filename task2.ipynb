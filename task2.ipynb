{
  "nbformat": 4,
  "nbformat_minor": 0,
  "metadata": {
    "colab": {
      "provenance": [],
      "gpuType": "T4",
      "mount_file_id": "1CGLdt_E6R1Db9XnQhw4U7tODazmgwaYh",
      "authorship_tag": "ABX9TyMh7U2xa4/SUQOduZkG8Qym",
      "include_colab_link": true
    },
    "kernelspec": {
      "name": "python3",
      "display_name": "Python 3"
    },
    "language_info": {
      "name": "python"
    },
    "accelerator": "GPU"
  },
  "cells": [
    {
      "cell_type": "markdown",
      "metadata": {
        "id": "view-in-github",
        "colab_type": "text"
      },
      "source": [
        "<a href=\"https://colab.research.google.com/github/athulskrish/pytorch_nn/blob/main/task2.ipynb\" target=\"_parent\"><img src=\"https://colab.research.google.com/assets/colab-badge.svg\" alt=\"Open In Colab\"/></a>"
      ]
    },
    {
      "cell_type": "markdown",
      "source": [
        "Use this example - https://machinelearningmastery.com/develop-your-first-neural-network-with-pytorch-step-by-step/ to understand pytorch NNs. Augment the dataset by perturbing the data fields with gaussian noise. Train/test/validate. Take a screencast walkthrough of the full code, including your understanding of how the NN is implemented."
      ],
      "metadata": {
        "id": "AmawZRxX1Kya"
      }
    },
    {
      "cell_type": "code",
      "source": [
        "import numpy as np\n",
        "import torch\n",
        "import torch.nn as nn\n",
        "import torch.optim as optim"
      ],
      "metadata": {
        "id": "svuqsg_gXlhR"
      },
      "execution_count": 2,
      "outputs": []
    },
    {
      "cell_type": "markdown",
      "source": [],
      "metadata": {
        "id": "BSa3en6G1J2V"
      }
    },
    {
      "cell_type": "code",
      "source": [
        "# load the dataset, split into input (X) and output (y) variables\n",
        "dataset = np.loadtxt('/content/drive/MyDrive/datasets/pima-indians-diabetes.csv', delimiter=',')\n",
        "X = dataset[:,0:8]\n",
        "y = dataset[:,8]\n",
        "\n",
        "X = torch.tensor(X, dtype=torch.float32)\n",
        "y = torch.tensor(y, dtype=torch.float32).reshape(-1, 1)\n",
        "\n",
        "\n",
        "print(dataset)"
      ],
      "metadata": {
        "id": "3-8AA98Uahye",
        "colab": {
          "base_uri": "https://localhost:8080/"
        },
        "outputId": "9d75696c-9eca-4383-9697-7ace1633e0d3"
      },
      "execution_count": 3,
      "outputs": [
        {
          "output_type": "stream",
          "name": "stdout",
          "text": [
            "[[  6.    148.     72.    ...   0.627  50.      1.   ]\n",
            " [  1.     85.     66.    ...   0.351  31.      0.   ]\n",
            " [  8.    183.     64.    ...   0.672  32.      1.   ]\n",
            " ...\n",
            " [  5.    121.     72.    ...   0.245  30.      0.   ]\n",
            " [  1.    126.     60.    ...   0.349  47.      1.   ]\n",
            " [  1.     93.     70.    ...   0.315  23.      0.   ]]\n"
          ]
        }
      ]
    },
    {
      "cell_type": "code",
      "source": [
        "\n",
        "# define the model\n",
        "class PimaClassifier(nn.Module):\n",
        "    def __init__(self):\n",
        "        super().__init__()\n",
        "        self.hidden1 = nn.Linear(8, 12)\n",
        "        self.act1 = nn.ReLU()\n",
        "        self.hidden2 = nn.Linear(12, 8)\n",
        "        self.act2 = nn.ReLU()\n",
        "        self.output = nn.Linear(8, 1)\n",
        "        self.act_output = nn.Sigmoid()\n",
        "\n",
        "    def forward(self, x):\n",
        "        x = self.act1(self.hidden1(x))\n",
        "        x = self.act2(self.hidden2(x))\n",
        "        x = self.act_output(self.output(x))\n",
        "        return x\n",
        "\n",
        "model = PimaClassifier()\n",
        "print(model)\n"
      ],
      "metadata": {
        "colab": {
          "base_uri": "https://localhost:8080/"
        },
        "id": "3mJuTYn50lha",
        "outputId": "8adf8aab-3583-4395-ef98-9b93ce3e52c3"
      },
      "execution_count": 4,
      "outputs": [
        {
          "output_type": "stream",
          "name": "stdout",
          "text": [
            "PimaClassifier(\n",
            "  (hidden1): Linear(in_features=8, out_features=12, bias=True)\n",
            "  (act1): ReLU()\n",
            "  (hidden2): Linear(in_features=12, out_features=8, bias=True)\n",
            "  (act2): ReLU()\n",
            "  (output): Linear(in_features=8, out_features=1, bias=True)\n",
            "  (act_output): Sigmoid()\n",
            ")\n"
          ]
        }
      ]
    },
    {
      "cell_type": "code",
      "source": [
        "\n",
        "# train the model\n",
        "loss_fn   = nn.BCELoss()  # binary cross entropy\n",
        "optimizer = optim.Adam(model.parameters(), lr=0.001)\n",
        "\n",
        "n_epochs = 100\n",
        "batch_size = 10\n",
        "\n",
        "for epoch in range(n_epochs):\n",
        "    for i in range(0, len(X), batch_size):\n",
        "        Xbatch = X[i:i+batch_size]\n",
        "        y_pred = model(Xbatch)\n",
        "        ybatch = y[i:i+batch_size]\n",
        "        loss = loss_fn(y_pred, ybatch)\n",
        "        optimizer.zero_grad()\n",
        "        loss.backward()\n",
        "        optimizer.step()\n"
      ],
      "metadata": {
        "id": "3E4prLN3ak-3"
      },
      "execution_count": 5,
      "outputs": []
    },
    {
      "cell_type": "code",
      "source": [
        "\n",
        "# compute accuracy\n",
        "y_pred = model(X)\n",
        "accuracy = (y_pred.round() == y).float().mean()\n",
        "print(f\"Accuracy {accuracy*100}\")\n",
        "\n",
        "# make class predictions with the model\n",
        "predictions = (model(X) > 0.5).int()\n",
        "for i in range(5):\n",
        "    print('%s => %d (expected %d)' % (X[i].tolist(), predictions[i], y[i]))"
      ],
      "metadata": {
        "id": "QZTAmpJiaq0w",
        "colab": {
          "base_uri": "https://localhost:8080/"
        },
        "outputId": "4bf004be-99b0-447f-dff2-8d7e43d5a4e7"
      },
      "execution_count": 6,
      "outputs": [
        {
          "output_type": "stream",
          "name": "stdout",
          "text": [
            "Accuracy 71.09375\n",
            "[6.0, 148.0, 72.0, 35.0, 0.0, 33.599998474121094, 0.6269999742507935, 50.0] => 0 (expected 1)\n",
            "[1.0, 85.0, 66.0, 29.0, 0.0, 26.600000381469727, 0.35100001096725464, 31.0] => 0 (expected 0)\n",
            "[8.0, 183.0, 64.0, 0.0, 0.0, 23.299999237060547, 0.671999990940094, 32.0] => 0 (expected 1)\n",
            "[1.0, 89.0, 66.0, 23.0, 94.0, 28.100000381469727, 0.16699999570846558, 21.0] => 0 (expected 0)\n",
            "[0.0, 137.0, 40.0, 35.0, 168.0, 43.099998474121094, 2.2880001068115234, 33.0] => 1 (expected 1)\n"
          ]
        }
      ]
    },
    {
      "cell_type": "markdown",
      "source": [
        "Including train,test, validate"
      ],
      "metadata": {
        "id": "FYFRM-XIF8VR"
      }
    },
    {
      "cell_type": "code",
      "source": [
        "from sklearn.model_selection import train_test_split\n",
        "\n",
        "X_train,X_test,y_train,y_test=train_test_split(X,y, stratify=y, test_size=0.2,random_state=66)\n"
      ],
      "metadata": {
        "id": "yxX36_Lb1y_M"
      },
      "execution_count": 8,
      "outputs": []
    },
    {
      "cell_type": "markdown",
      "source": [
        "Including validation as 25% of the training data set"
      ],
      "metadata": {
        "id": "yR8FuKUUHHBf"
      }
    },
    {
      "cell_type": "code",
      "source": [
        "X_train,X_val, y_train,y_val=train_test_split(X,y,stratify=y,test_size=0.25, random_state=66)"
      ],
      "metadata": {
        "id": "ucKX2F0xGY8J"
      },
      "execution_count": 9,
      "outputs": []
    },
    {
      "cell_type": "markdown",
      "source": [
        "INcluding noise"
      ],
      "metadata": {
        "id": "8PCdHH3xJS-c"
      }
    },
    {
      "cell_type": "code",
      "source": [
        "import random\n",
        "X_deviation=0.01\n",
        "noise= torch.randn(X.size())*X_deviation\n",
        "\n",
        "X=X+noise\n",
        "\n",
        "print(X[:5])\n"
      ],
      "metadata": {
        "colab": {
          "base_uri": "https://localhost:8080/"
        },
        "id": "tbZk87JHHBHF",
        "outputId": "f708e79b-aae4-439f-8a37-289a5b5eba1b"
      },
      "execution_count": 14,
      "outputs": [
        {
          "output_type": "stream",
          "name": "stdout",
          "text": [
            "tensor([[  5.9917, 147.9850,  71.9999,  ...,  33.5950,   0.6298,  49.9936],\n",
            "        [  1.0253,  84.9890,  66.0227,  ...,  26.6114,   0.3494,  31.0042],\n",
            "        [  8.0011, 183.0208,  64.0180,  ...,  23.3040,   0.6643,  32.0180],\n",
            "        ...,\n",
            "        [  4.9922, 120.9970,  72.0067,  ...,  26.2028,   0.2244,  29.9997],\n",
            "        [  1.0022, 125.9904,  60.0048,  ...,  30.0945,   0.3484,  47.0025],\n",
            "        [  0.9976,  92.9765,  69.9959,  ...,  30.4076,   0.3105,  22.9779]])\n",
            "tensor([[ 5.9910e+00,  1.4798e+02,  7.2004e+01,  3.5002e+01, -2.8754e-02,\n",
            "          3.3599e+01,  6.4469e-01,  4.9997e+01],\n",
            "        [ 1.0141e+00,  8.5001e+01,  6.6030e+01,  2.8991e+01,  1.7581e-03,\n",
            "          2.6619e+01,  3.5018e-01,  3.1011e+01],\n",
            "        [ 8.0091e+00,  1.8302e+02,  6.4021e+01, -1.9484e-02, -2.5089e-02,\n",
            "          2.3290e+01,  6.8077e-01,  3.2019e+01],\n",
            "        [ 1.0058e+00,  8.9000e+01,  6.5997e+01,  2.2990e+01,  9.4009e+01,\n",
            "          2.8102e+01,  1.6949e-01,  2.1010e+01],\n",
            "        [ 9.5807e-03,  1.3698e+02,  3.9995e+01,  3.4991e+01,  1.6801e+02,\n",
            "          4.3096e+01,  2.3023e+00,  3.3043e+01]])\n"
          ]
        }
      ]
    },
    {
      "cell_type": "code",
      "source": [],
      "metadata": {
        "id": "1-yDJtE6JMAa"
      },
      "execution_count": null,
      "outputs": []
    }
  ]
}